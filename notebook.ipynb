{
 "cells": [
  {
   "cell_type": "code",
   "execution_count": 1,
   "metadata": {},
   "outputs": [],
   "source": [
    "# import all packages and libraries needed to run the code\n",
    "import pandas as pd\n",
    "import numpy as np\n",
    "import seaborn as sns\n",
    "from matplotlib import pyplot as plt\n",
    "import random\n",
    "\n",
    "from sklearn.pipeline import make_pipeline\n",
    "from sklearn.model_selection import StratifiedKFold\n",
    "from sklearn.feature_selection import SelectKBest\n",
    "from sklearn.feature_selection import f_classif\n",
    "from sklearn.model_selection import GridSearchCV\n",
    "from sklearn.metrics import accuracy_score\n",
    "from sklearn.model_selection import train_test_split"
   ]
  },
  {
   "cell_type": "code",
   "execution_count": 2,
   "metadata": {},
   "outputs": [
    {
     "name": "stdout",
     "output_type": "stream",
     "text": [
      "(91713, 186)\n",
      "(39308, 186)\n"
     ]
    }
   ],
   "source": [
    "# import the training set and the unlabeled test set  \n",
    "X_train = pd.read_csv(\"training_v2.csv\")\n",
    "unlabeled = pd.read_csv(\"unlabeled.csv\")\n",
    "\n",
    "print(X_train.shape)\n",
    "print(unlabeled.shape)"
   ]
  },
  {
   "cell_type": "code",
   "execution_count": 3,
   "metadata": {},
   "outputs": [
    {
     "name": "stdout",
     "output_type": "stream",
     "text": [
      "(91713, 182)\n",
      "(39308, 181)\n"
     ]
    }
   ],
   "source": [
    "# drop features that are not expected to be related to the outcome\n",
    "X_train.drop(['hospital_id', 'patient_id', 'icu_id', 'readmission_status'], inplace=True, axis=1)\n",
    "unlabeled.drop(['hospital_id', 'patient_id', 'icu_id', 'readmission_status', 'hospital_death'], \n",
    "inplace=True, axis=1)\n",
    "\n",
    "print(X_train.shape)\n",
    "print(unlabeled.shape)"
   ]
  },
  {
   "cell_type": "code",
   "execution_count": 4,
   "metadata": {},
   "outputs": [
    {
     "name": "stdout",
     "output_type": "stream",
     "text": [
      "(188, 6)\n"
     ]
    }
   ],
   "source": [
    "# read the dictionary \n",
    "dictionary_ = pd.read_csv(\"WiDS Datathon 2020 Dictionary.csv\")\n",
    "print(dictionary_.shape)"
   ]
  },
  {
   "cell_type": "code",
   "execution_count": 5,
   "metadata": {},
   "outputs": [],
   "source": [
    "# create separate lists of column names based on the data type of the columns\n",
    "integer_cols = []\n",
    "binary_cols = []\n",
    "numeric_cols = []\n",
    "string_cols = []\n",
    "\n",
    "for i in range(dictionary_.shape[0]):\n",
    "    if dictionary_.loc[i, 'Data Type'] == 'integer':\n",
    "        integer_cols.append(dictionary_.loc[i, 'Variable Name'])\n",
    "\n",
    "    if dictionary_.loc[i, 'Data Type'] == 'binary':\n",
    "        binary_cols.append(dictionary_.loc[i, 'Variable Name'])\n",
    "\n",
    "    if dictionary_.loc[i, 'Data Type'] == 'numeric':\n",
    "        numeric_cols.append(dictionary_.loc[i, 'Variable Name'])\n",
    "\n",
    "    if dictionary_.loc[i, 'Data Type'] == 'string':\n",
    "        string_cols.append(dictionary_.loc[i, 'Variable Name'])"
   ]
  },
  {
   "cell_type": "code",
   "execution_count": 6,
   "metadata": {},
   "outputs": [
    {
     "name": "stderr",
     "output_type": "stream",
     "text": [
      "<ipython-input-6-f56bd5ced59f>:27: UserWarning: Matplotlib is currently using module://ipykernel.pylab.backend_inline, which is a non-GUI backend, so cannot show the figure.\n",
      "  fig.show()\n"
     ]
    },
    {
     "data": {
      "image/png": "[encoded data removed]",
      "text/plain": [
       "<Figure size 288x504 with 1 Axes>"
      ]
     },
     "metadata": {
      "needs_background": "light"
     },
     "output_type": "display_data"
    }
   ],
   "source": [
    "integer_cols_X_train = []\n",
    "binary_cols_X_train = []\n",
    "numeric_cols_X_train = []\n",
    "string_cols_X_train = []\n",
    "\n",
    "for col_name in X_train.columns.to_list():\n",
    "    if col_name in integer_cols:\n",
    "        integer_cols_X_train.append(col_name)\n",
    "\n",
    "    if col_name in binary_cols:\n",
    "        binary_cols_X_train.append(col_name)    \n",
    "    \n",
    "    if col_name in numeric_cols:\n",
    "        numeric_cols_X_train.append(col_name)\n",
    "\n",
    "    if col_name in string_cols:\n",
    "        string_cols_X_train.append(col_name)\n",
    "\n",
    "fig, ax = plt.subplots(figsize=(4, 7))\n",
    "\n",
    "ax.bar(['integer', 'binary', 'numeric', 'string'], [len(integer_cols_X_train), \n",
    "len(binary_cols_X_train), len(numeric_cols_X_train), len(string_cols_X_train)])\n",
    "plt.xlabel('Type of column', labelpad=10)\n",
    "plt.ylabel('Number of columns')\n",
    "plt.title('Raw data')\n",
    "\n",
    "fig.show()        "
   ]
  },
  {
   "cell_type": "code",
   "execution_count": null,
   "metadata": {},
   "outputs": [],
   "source": [
    "cat_variable = 'ethnicity'\n",
    "\n",
    "fig, ax  = plt.subplots(figsize=(10, 10))\n",
    "#fig.suptitle('Distribution of %s' %cat_variable, size=15)\n",
    "labels = list(X_train[cat_variable].dropna().unique())\n",
    "#explode = (0.01, 0.01) \n",
    "explode = (0.05, 0.05, 0.05, 0.05, 0.2, 0.3)\n",
    "sizes = X_train[cat_variable].value_counts()\n",
    "ax.pie(sizes, explode=explode, startangle=60, labels=labels, \n",
    "#autopct='%1.1f%%', pctdistance=0.6,\n",
    "textprops={'fontsize': 20}, labeldistance=1.05) \n",
    "ax.add_artist(plt.Circle((0,0), 0.4, fc='white'))\n",
    "plt.tight_layout()\n",
    "plt.show()"
   ]
  },
  {
   "cell_type": "code",
   "execution_count": null,
   "metadata": {},
   "outputs": [],
   "source": [
    "fig, ax = plt.subplots(figsize=(6, 6))\n",
    "\n",
    "sns.kdeplot(X_train[X_train.gender == 'F'].age, label='Female', color='salmon', bw_adjust=1.2)\n",
    "sns.kdeplot(X_train[X_train.gender == 'M'].age, label='Male', color='dodgerblue', bw_adjust=1.2)\n",
    "ax.set_title('Age [years]', fontsize=14)\n",
    "plt.legend()\n",
    "\n",
    "plt.show()"
   ]
  },
  {
   "cell_type": "code",
   "execution_count": 7,
   "metadata": {},
   "outputs": [],
   "source": [
    "# impute height and weight with average values assuming that males are taller and heavier than females\n",
    "X_train[\"height\"] = np.where((X_train.height.isna() & (X_train.gender == 'F')), 160, X_train[\"height\"])\n",
    "X_train[\"height\"] = np.where((X_train.height.isna() & (X_train.gender == 'M')), 180, X_train[\"height\"])\n",
    "X_train[\"height\"] = np.where((X_train.height.isna() & (X_train.gender.isna())), 170, X_train[\"height\"])\n",
    "X_train[\"weight\"] = np.where((X_train.height.isna() & (X_train.gender == 'F')), 65, X_train[\"weight\"])\n",
    "X_train[\"weight\"] = np.where((X_train.height.isna() & (X_train.gender == 'M')), 82, X_train[\"weight\"])\n",
    "X_train[\"weight\"] = np.where((X_train.height.isna() & (X_train.gender.isna())), 74, X_train[\"weight\"])\n",
    "\n",
    "unlabeled[\"height\"] = np.where((unlabeled.height.isna() & (unlabeled.gender == 'F')), 160, unlabeled[\"height\"])\n",
    "unlabeled[\"height\"] = np.where((unlabeled.height.isna() & (unlabeled.gender == 'M')), 180, unlabeled[\"height\"])\n",
    "unlabeled[\"height\"] = np.where((unlabeled.height.isna() & (unlabeled.gender.isna())), 170, unlabeled[\"height\"])\n",
    "unlabeled[\"weight\"] = np.where((unlabeled.height.isna() & (unlabeled.gender == 'F')), 65, unlabeled[\"weight\"])\n",
    "unlabeled[\"weight\"] = np.where((unlabeled.height.isna() & (unlabeled.gender == 'M')), 82, unlabeled[\"weight\"])\n",
    "unlabeled[\"weight\"] = np.where((unlabeled.height.isna() & (unlabeled.gender.isna())), 74, unlabeled[\"weight\"])"
   ]
  },
  {
   "cell_type": "code",
   "execution_count": null,
   "metadata": {},
   "outputs": [],
   "source": [
    "# Check that the distribution of height and weight in the data is approximately normal\n",
    "# Plot univariate or bivariate distributions using kernel density estimation.\n",
    "# A kernel density estimate (KDE) plot is a method for visualizing the distribution of observations \n",
    "# in a dataset, analagous to a histogram. KDE represents the data using a continuous probability density \n",
    "# curve in one or more dimensions.\n",
    "\n",
    "fig, ax = plt.subplots(nrows=1, ncols=2, figsize=(16, 6))\n",
    "\n",
    "sns.kdeplot(X_train[X_train.gender == 'F'].weight, label='Female', color='salmon', ax=ax[0], bw_adjust=1.2)\n",
    "sns.kdeplot(X_train[X_train.gender == 'M'].weight, label='Male', color='dodgerblue', ax=ax[0], bw_adjust=1.2)\n",
    "ax[0].set_title('Weight [kg]', fontsize=14)\n",
    "\n",
    "sns.kdeplot(X_train[X_train.gender == 'F'].height, label='Female', color='salmon', ax=ax[1], bw_adjust=1.8)\n",
    "sns.kdeplot(X_train[X_train.gender == 'M'].height, label='Male', color='dodgerblue', ax=ax[1], bw_adjust=2)\n",
    "ax[1].set_title('Height [cm]', fontsize=14)\n",
    "plt.legend()\n",
    "\n",
    "plt.show()"
   ]
  },
  {
   "cell_type": "code",
   "execution_count": 8,
   "metadata": {},
   "outputs": [
    {
     "data": {
      "text/plain": [
       "(91713, 108)"
      ]
     },
     "execution_count": 8,
     "metadata": {},
     "output_type": "execute_result"
    }
   ],
   "source": [
    "# find the number of missing values in each column and divide by column length\n",
    "lst = X_train.isna().sum() / len(X_train)\n",
    "\n",
    "# create a dataframe containing the percentage of missing values in each column\n",
    "p = pd.DataFrame(lst)\n",
    "\n",
    "# When we reset the index, the old index is added as a column, and a new sequential index is used\n",
    "p.reset_index(inplace=True)\n",
    "\n",
    "# find columns containing more than 30% missing values\n",
    "p.columns = ['a', 'b']\n",
    "low_count = p[p['b'] > 0.3]\n",
    "todelete = low_count['a'].values\n",
    "\n",
    "# drop columns containing more than 30% missing values from the training and unlabeled datasets\n",
    "X_train.drop(todelete, axis=1, inplace=True)\n",
    "unlabeled.drop(todelete, axis=1, inplace=True)\n",
    "\n",
    "X_train.shape"
   ]
  },
  {
   "cell_type": "code",
   "execution_count": 9,
   "metadata": {},
   "outputs": [
    {
     "name": "stderr",
     "output_type": "stream",
     "text": [
      "<ipython-input-9-fab9be8b4b58>:28: UserWarning: Matplotlib is currently using module://ipykernel.pylab.backend_inline, which is a non-GUI backend, so cannot show the figure.\n",
      "  fig.show()\n"
     ]
    },
    {
     "data": {
      "image/png": "[encoded data removed]",
      "text/plain": [
       "<Figure size 288x504 with 1 Axes>"
      ]
     },
     "metadata": {
      "needs_background": "light"
     },
     "output_type": "display_data"
    }
   ],
   "source": [
    "integer_cols_X_train = []\n",
    "binary_cols_X_train = []\n",
    "numeric_cols_X_train = []\n",
    "string_cols_X_train = []\n",
    "\n",
    "for col_name in X_train.columns.to_list():\n",
    "    if col_name in integer_cols:\n",
    "        integer_cols_X_train.append(col_name)\n",
    "\n",
    "    if col_name in binary_cols:\n",
    "        binary_cols_X_train.append(col_name)    \n",
    "    \n",
    "    if col_name in numeric_cols:\n",
    "        numeric_cols_X_train.append(col_name)\n",
    "\n",
    "    if col_name in string_cols:\n",
    "        string_cols_X_train.append(col_name)\n",
    "\n",
    "fig, ax = plt.subplots(figsize=(4, 7))\n",
    "\n",
    "ax.bar(['integer', 'binary', 'numeric', 'string'], [len(integer_cols_X_train), \n",
    "len(binary_cols_X_train), len(numeric_cols_X_train), len(string_cols_X_train)])\n",
    "plt.ylim(0, 160)\n",
    "plt.xlabel('Type of column', labelpad=10)\n",
    "plt.ylabel('Number of columns')\n",
    "plt.title('Raw data')\n",
    "\n",
    "fig.show() "
   ]
  },
  {
   "cell_type": "code",
   "execution_count": 10,
   "metadata": {},
   "outputs": [
    {
     "data": {
      "text/plain": [
       "(91679, 108)"
      ]
     },
     "execution_count": 10,
     "metadata": {},
     "output_type": "execute_result"
    }
   ],
   "source": [
    "# drop rows ontaining more than 30% missing values from the training dataset\n",
    "X_train.dropna(thresh=X_train.shape[1]*0.3, inplace=True)\n",
    "X_train.shape"
   ]
  },
  {
   "cell_type": "code",
   "execution_count": 11,
   "metadata": {},
   "outputs": [],
   "source": [
    "# extract the column containing labels from the training dataset and store it separately as a vector\n",
    "y_train = X_train['hospital_death']\n",
    "X_train.drop('hospital_death', inplace=True, axis=1)"
   ]
  },
  {
   "cell_type": "code",
   "execution_count": 12,
   "metadata": {},
   "outputs": [],
   "source": [
    "# for string columns, replace empty boxes with \"None\"\n",
    "for col_name in string_cols:\n",
    "    if col_name in X_train.columns.to_list():\n",
    "        X_train[col_name].where(pd.notnull(X_train[col_name]), None, inplace=True)\n",
    "\n",
    "    if col_name in unlabeled.columns.to_list():\n",
    "        unlabeled[col_name].where(pd.notnull(unlabeled[col_name]), None, inplace=True)"
   ]
  },
  {
   "cell_type": "code",
   "execution_count": 13,
   "metadata": {},
   "outputs": [],
   "source": [
    "# encode string columns as integers\n",
    "from sklearn.preprocessing import OrdinalEncoder\n",
    "\n",
    "enc = OrdinalEncoder(handle_unknown='use_encoded_value', unknown_value=np.nan)\n",
    "\n",
    "for col_name in string_cols:\n",
    "    if col_name in X_train.columns.to_list():\n",
    "        X_train[col_name] = enc.fit_transform(X_train[[col_name]])\n",
    "\n",
    "    if col_name in unlabeled.columns.to_list():\n",
    "        unlabeled[col_name] = enc.fit_transform(unlabeled[[col_name]])"
   ]
  },
  {
   "cell_type": "code",
   "execution_count": 14,
   "metadata": {},
   "outputs": [
    {
     "name": "stdout",
     "output_type": "stream",
     "text": [
      "(91679, 107)\n",
      "(39308, 107)\n"
     ]
    }
   ],
   "source": [
    "# convert the data types of all columns to float \n",
    "X_train = X_train.astype('float32')\n",
    "unlabeled = unlabeled.astype('float32')\n",
    "\n",
    "print(X_train.shape)\n",
    "print(unlabeled.shape)"
   ]
  },
  {
   "cell_type": "code",
   "execution_count": 15,
   "metadata": {},
   "outputs": [
    {
     "data": {
      "text/plain": [
       "KNNImputer(copy=False, weights='distance')"
      ]
     },
     "execution_count": 15,
     "metadata": {},
     "output_type": "execute_result"
    }
   ],
   "source": [
    "# impute missing values using k nearest neighbors where k=5\n",
    "from sklearn.impute import KNNImputer\n",
    "\n",
    "knn_imputer = KNNImputer(missing_values=np.nan, n_neighbors=5, weights='distance', \n",
    "metric='nan_euclidean', copy=False)\n",
    "\n",
    "knn_imputer.fit(X_train)"
   ]
  },
  {
   "cell_type": "code",
   "execution_count": 16,
   "metadata": {},
   "outputs": [
    {
     "data": {
      "text/plain": [
       "array([[2.0000000e+00, 5.6000000e+01, 2.1102440e+01, ..., 0.0000000e+00,\n",
       "        7.0000000e+00, 4.0000000e+00],\n",
       "       [5.0000000e+00, 6.1099613e+01, 1.9500595e+01, ..., 0.0000000e+00,\n",
       "        7.0000000e+00, 4.0000000e+00],\n",
       "       [7.0000000e+00, 6.6000000e+01, 3.2518597e+01, ..., 0.0000000e+00,\n",
       "        0.0000000e+00, 0.0000000e+00],\n",
       "       ...,\n",
       "       [1.3103900e+05, 7.1000000e+01, 2.3010380e+01, ..., 1.0000000e+00,\n",
       "        9.0000000e+00, 0.0000000e+00],\n",
       "       [1.3104100e+05, 5.7000000e+01, 3.2987949e+01, ..., 0.0000000e+00,\n",
       "        0.0000000e+00, 0.0000000e+00],\n",
       "       [1.3105000e+05, 6.6000000e+01, 2.3183392e+01, ..., 0.0000000e+00,\n",
       "        0.0000000e+00, 0.0000000e+00]], dtype=float32)"
      ]
     },
     "execution_count": 16,
     "metadata": {},
     "output_type": "execute_result"
    }
   ],
   "source": [
    "# after fitting the imputer on the training set only, transform the training and unlabeled sets\n",
    "knn_imputer.transform(X_train)\n",
    "knn_imputer.transform(unlabeled)"
   ]
  },
  {
   "cell_type": "code",
   "execution_count": null,
   "metadata": {},
   "outputs": [],
   "source": [
    "# save the processed data as csv files\n",
    "X_train.to_pickle(\"X_train_knn.csv\")\n",
    "unlabeled.to_pickle(\"unlabeled_1_knn.csv\")\n",
    "y_train.to_pickle(\"y_train_knn.csv\")"
   ]
  },
  {
   "cell_type": "code",
   "execution_count": null,
   "metadata": {},
   "outputs": [],
   "source": [
    "# read the processed data from csv files\n",
    "X_train = pd.read_pickle(\"X_train_knn.csv\")\n",
    "y_train = pd.read_pickle(\"y_train_knn.csv\")\n",
    "unlabeled = pd.read_pickle(\"unlabeled_1_knn.csv\")"
   ]
  },
  {
   "cell_type": "code",
   "execution_count": null,
   "metadata": {},
   "outputs": [],
   "source": [
    "# create a list of numeric columns names \n",
    "num_feature = []\n",
    "\n",
    "for col_name in numeric_cols:\n",
    "    if col_name in X_train.columns.to_list():\n",
    "        num_feature.append(col_name)"
   ]
  },
  {
   "cell_type": "code",
   "execution_count": null,
   "metadata": {},
   "outputs": [],
   "source": [
    "# create correlation matrix of numeric columns \n",
    "corr_matrix = X_train[num_feature].corr().abs()"
   ]
  },
  {
   "cell_type": "code",
   "execution_count": null,
   "metadata": {},
   "outputs": [],
   "source": [
    "# create a heatmap of the correlation matrix\n",
    "fig, ax = plt.subplots(figsize=(15, 15))\n",
    "sns.heatmap(corr_matrix)"
   ]
  },
  {
   "cell_type": "code",
   "execution_count": null,
   "metadata": {},
   "outputs": [],
   "source": [
    "# select upper triangle of correlation matrix\n",
    "upper = corr_matrix.where(np.triu(np.ones(corr_matrix.shape), k=1).astype(bool))"
   ]
  },
  {
   "cell_type": "code",
   "execution_count": null,
   "metadata": {},
   "outputs": [],
   "source": [
    "# plot a graph of number of columns to drop vs correlation\n",
    "corr = []\n",
    "to_drop_columns = []\n",
    "\n",
    "for i in np.arange(0.5, 1, 0.1):\n",
    "    to_drop = [column for column in upper.columns if any(upper[column] > i)]\n",
    "    corr.append(i)\n",
    "    to_drop_columns.append(len(to_drop))\n",
    "\n",
    "plt.subplots(figsize=(10, 10))\n",
    "plt.plot(corr, to_drop_columns)\n",
    "plt.xlabel('correlation')\n",
    "plt.ylabel('number of columns to drop')"
   ]
  },
  {
   "cell_type": "code",
   "execution_count": null,
   "metadata": {},
   "outputs": [],
   "source": [
    "# Find index of feature columns with correlation greater than 0.8\n",
    "to_drop = [column for column in upper.columns if any(upper[column] > 0.8)]\n",
    "\n",
    "# drop columns that have more than 80% correlation to other columns\n",
    "X_train.drop(to_drop, inplace=True, axis=1)\n",
    "unlabeled.drop(to_drop, inplace=True, axis=1)\n",
    "\n",
    "print(X_train.shape)\n",
    "print(unlabeled.shape)"
   ]
  },
  {
   "cell_type": "code",
   "execution_count": null,
   "metadata": {},
   "outputs": [],
   "source": [
    "# remove outliers using isolation forest algorithm\n",
    "from sklearn.ensemble import IsolationForest\n",
    "\n",
    "iso = IsolationForest(n_estimators=1000, max_samples=1000, contamination='auto', \n",
    "max_features=10, bootstrap=False, n_jobs=-1, random_state=20)\n",
    "\n",
    "yhat = iso.fit_predict(X_train)\n",
    "\n",
    "scores = iso.decision_function(X_train)\n",
    "\n",
    "# select all rows that are not outliers\n",
    "mask = yhat != -1\n",
    "\n",
    "np.unique(mask, return_counts=True)"
   ]
  },
  {
   "cell_type": "code",
   "execution_count": null,
   "metadata": {},
   "outputs": [],
   "source": [
    "plot_X_1, plot_X_2, plot_scores_1, plot_scores_2 = train_test_split(X_train, scores, \n",
    "test_size=0.10, random_state=20)"
   ]
  },
  {
   "cell_type": "code",
   "execution_count": null,
   "metadata": {},
   "outputs": [],
   "source": [
    "groups = plot_X_2.groupby('gender')\n",
    "for name, group in groups:\n",
    "    plt.plot(group.encounter_id, plot_scores_2, marker='o', linestyle='', markersize=12, label=name)\n",
    "\n",
    "plt.legend()"
   ]
  },
  {
   "cell_type": "code",
   "execution_count": null,
   "metadata": {},
   "outputs": [],
   "source": [
    "plt.subplots(figsize=(15, 15))\n",
    "plt.title(\"Isolation Forest\")\n",
    "\n",
    "b = plt.scatter(plot_X_2['encounter_id'], plot_scores_2, c=plot_X_2['age'], s=20)\n",
    "\n",
    "plt.axis('tight')\n",
    "plt.legend(handles=b.legend_elements()[0],  \n",
    "           title=\"age\")\n",
    "plt.xlabel('Encounter ID')\n",
    "plt.ylabel('Anomaly score')\n",
    "plt.show()"
   ]
  },
  {
   "cell_type": "code",
   "execution_count": null,
   "metadata": {},
   "outputs": [],
   "source": [
    "# drop outlier samples from the training dataset\n",
    "X_train = X_train.loc[mask]\n",
    "y_train = y_train.loc[mask]"
   ]
  },
  {
   "cell_type": "code",
   "execution_count": null,
   "metadata": {},
   "outputs": [],
   "source": [
    "from sklearn.preprocessing import MinMaxScaler\n",
    "\n",
    "#num_feature = []\n",
    "\n",
    "#for col_name in numeric_cols:\n",
    "#    if col_name in X_train.columns.to_list():\n",
    "#        num_feature.append(col_name)\n",
    "\n",
    "scalar = MinMaxScaler()\n",
    "\n",
    "scalar.fit(X_train)\n",
    "\n",
    "X_train = pd.DataFrame(scalar.transform(X_train), columns = X_train.columns)\n",
    "unlabeled = pd.DataFrame(scalar.transform(unlabeled), columns = unlabeled.columns)"
   ]
  },
  {
   "cell_type": "code",
   "execution_count": null,
   "metadata": {},
   "outputs": [],
   "source": [
    "X_train.to_pickle(\"X_train_scaled.csv\")\n",
    "unlabeled.to_pickle(\"unlabeled_1_scaled.csv\")\n",
    "y_train.to_pickle(\"y_train_scaled.csv\")"
   ]
  },
  {
   "cell_type": "code",
   "execution_count": null,
   "metadata": {},
   "outputs": [],
   "source": [
    "X_train = pd.read_pickle(\"X_train_scaled.csv\")\n",
    "y_train = pd.read_pickle(\"y_train_scaled.csv\")\n",
    "unlabeled = pd.read_pickle(\"unlabeled_1_scaled.csv\")"
   ]
  },
  {
   "cell_type": "code",
   "execution_count": null,
   "metadata": {},
   "outputs": [],
   "source": [
    "from sklearn.decomposition import PCA\n",
    "\n",
    "#X_train['hospital_death'] = y_train\n",
    "\n",
    "pca = PCA()\n",
    "components = pca.fit_transform(X_train)\n",
    "\n",
    "for i, var in enumerate(pca.explained_variance_ratio_ * 100):\n",
    "    print(f\"PC {i+1} ({var:.1f}%)\")"
   ]
  },
  {
   "cell_type": "code",
   "execution_count": null,
   "metadata": {},
   "outputs": [],
   "source": [
    "import plotly.express as px\n",
    "\n",
    "fig = px.scatter(components, x=0, y=1, color=y_train, width=1000, height=1000)\n",
    "fig.show()"
   ]
  },
  {
   "cell_type": "code",
   "execution_count": null,
   "metadata": {},
   "outputs": [],
   "source": [
    "fig = px.scatter(components, x=1, y=2, color=y_train, width=1000, height=1000)\n",
    "fig.show()"
   ]
  },
  {
   "cell_type": "code",
   "execution_count": null,
   "metadata": {},
   "outputs": [],
   "source": [
    "fig = px.scatter(components, x=0, y=2, color=X_train['ethnicity'], width=1000, height=1000)\n",
    "fig.show()"
   ]
  },
  {
   "cell_type": "code",
   "execution_count": null,
   "metadata": {},
   "outputs": [],
   "source": [
    "y_train.value_counts() / len(y_train)"
   ]
  },
  {
   "cell_type": "code",
   "execution_count": null,
   "metadata": {},
   "outputs": [],
   "source": [
    "cat_feature = []\n",
    "\n",
    "for i, col_name in enumerate(X_train.columns.to_list()):\n",
    "    if col_name not in numeric_cols:\n",
    "        cat_feature.append(i)"
   ]
  },
  {
   "cell_type": "code",
   "execution_count": null,
   "metadata": {},
   "outputs": [],
   "source": [
    "from sklearn.model_selection import train_test_split\n",
    "\n",
    "X_train1, X_train2, y_train1, y_train2 = train_test_split(X_train, y_train, test_size=0.5, stratify=y_train, \n",
    "random_state=20)\n",
    "X_train11, X_train21, y_train11, y_train21 = train_test_split(X_train1, y_train1, test_size=0.5, \n",
    "stratify=y_train1, random_state=20)\n",
    "X_train12, X_train22, y_train12, y_train22 = train_test_split(X_train2, y_train2, test_size=0.5, \n",
    "stratify=y_train2, random_state=20)"
   ]
  },
  {
   "cell_type": "code",
   "execution_count": null,
   "metadata": {},
   "outputs": [],
   "source": [
    "from imblearn.over_sampling import SMOTENC\n",
    "\n",
    "sm = SMOTENC(categorical_features=cat_feature, n_jobs=-1, random_state=20)\n",
    "\n",
    "X_train11, y_train11 = sm.fit_resample(X_train11, y_train11)"
   ]
  },
  {
   "cell_type": "code",
   "execution_count": null,
   "metadata": {},
   "outputs": [],
   "source": [
    "X_train21, y_train21 = sm.fit_resample(X_train21, y_train21)"
   ]
  },
  {
   "cell_type": "code",
   "execution_count": null,
   "metadata": {},
   "outputs": [],
   "source": [
    "X_train12, y_train12 = sm.fit_resample(X_train12, y_train12)"
   ]
  },
  {
   "cell_type": "code",
   "execution_count": null,
   "metadata": {},
   "outputs": [],
   "source": [
    "X_train22, y_train22 = sm.fit_resample(X_train22, y_train22)"
   ]
  },
  {
   "cell_type": "code",
   "execution_count": null,
   "metadata": {},
   "outputs": [],
   "source": [
    "print(y_train11.value_counts() / len(y_train11))\n",
    "print(y_train21.value_counts() / len(y_train21))\n",
    "print(y_train12.value_counts() / len(y_train12))\n",
    "print(y_train22.value_counts() / len(y_train22))"
   ]
  },
  {
   "cell_type": "code",
   "execution_count": null,
   "metadata": {},
   "outputs": [],
   "source": [
    "X_train = pd.concat([X_train11, X_train21, X_train12, X_train22])\n",
    "y_train = pd.concat([y_train11, y_train21, y_train12, y_train22])\n",
    "\n",
    "print(X_train.shape)\n",
    "print(y_train.shape)"
   ]
  },
  {
   "cell_type": "code",
   "execution_count": null,
   "metadata": {},
   "outputs": [],
   "source": [
    "X_train.to_pickle(\"X_train_smote.csv\")\n",
    "unlabeled.to_pickle(\"unlabeled_1_smote.csv\")\n",
    "y_train.to_pickle(\"y_train_smote.csv\")"
   ]
  },
  {
   "cell_type": "code",
   "execution_count": null,
   "metadata": {},
   "outputs": [],
   "source": [
    "X_train = pd.read_pickle(\"X_train_smote.csv\")\n",
    "y_train = pd.read_pickle(\"y_train_smote.csv\")\n",
    "unlabeled = pd.read_pickle(\"unlabeled_1_smote.csv\")"
   ]
  },
  {
   "cell_type": "code",
   "execution_count": null,
   "metadata": {},
   "outputs": [],
   "source": [
    "from sklearn.pipeline import make_pipeline\n",
    "from sklearn.model_selection import StratifiedKFold\n",
    "from sklearn.feature_selection import SelectKBest\n",
    "from sklearn.feature_selection import f_classif\n",
    "from sklearn.linear_model import LogisticRegression\n",
    "from sklearn.model_selection import GridSearchCV\n",
    "from sklearn.metrics import accuracy_score\n",
    "from numpy import mean\n",
    "from numpy import std\n",
    "\n",
    "# make a pipeline to select features and apply logistic regression\n",
    "LR_pipeline = make_pipeline(SelectKBest(score_func=f_classif), LogisticRegression(solver='liblinear', \n",
    "random_state=20))\n",
    "\n",
    "# k = number of features to use in SelectKBest\n",
    "k_values = [20, 30, 40, 50, 60]\n",
    "\n",
    "# C = inverse regularization parameter for ridge or lasso; lowering C strengthens Lambda \n",
    "c_values = [100, 10, 1.0, 0.1]\n",
    "\n",
    "# l1 = lasso; l2 = ridge\n",
    "penalty = ['l1', 'l2']\n",
    "\n",
    "# define a grid of parameter values\n",
    "grid = dict(logisticregression__C=c_values, logisticregression__penalty=penalty, selectkbest__k=k_values)\n",
    "\n",
    "# define 5-fold cross-validation \n",
    "# KFold is a cross-validator that divides the dataset into k folds\n",
    "# Stratified is to ensure that each fold of dataset has the same proportion of observations with a given label\n",
    "cv = StratifiedKFold(n_splits=5) \n",
    "\n",
    "# GridSearchCV exhaustively generates candidates from a grid of parameter values \n",
    "grid_search = GridSearchCV(estimator=LR_pipeline, param_grid=grid, n_jobs=-1, cv=cv)\n",
    "grid_result = grid_search.fit(X_train, y_train)\n",
    "\n",
    "print(\"Best CV score: %f using %s\" % (grid_result.best_score_, grid_result.best_params_))\n",
    "    \n",
    "# define a logistic regression model using the optimal parameter values obtained from the grid search\n",
    "LR_pipeline = make_pipeline(SelectKBest(score_func=f_classif, k=grid_result.best_params_['selectkbest__k']), \n",
    "                        LogisticRegression(penalty=grid_result.best_params_['logisticregression__penalty'], \n",
    "                                           solver='liblinear', \n",
    "                                           C=grid_result.best_params_['logisticregression__C'], \n",
    "                                           random_state=20))"
   ]
  },
  {
   "cell_type": "code",
   "execution_count": null,
   "metadata": {},
   "outputs": [],
   "source": [
    "import matplotlib.pyplot as plt\n",
    "%matplotlib inline\n",
    "\n",
    "for i in range(0,len(grid_result.cv_results_['params']),8):\n",
    "    fig, ax = plt.subplots(figsize=(5,5))\n",
    "    ax.bar(np.arange(len(grid_result.cv_results_['params'][i:i+8])),\n",
    "           grid_result.cv_results_['mean_test_score'][i:i+8],\n",
    "           yerr=grid_result.cv_results_['std_test_score'][i:i+8],\n",
    "           align='center', alpha=0.5, ecolor='black', capsize=10)\n",
    "    ax.set_ylabel('Mean')\n",
    "    ax.set_xticks(np.arange(len(grid_result.cv_results_['params'][i:i+8])))\n",
    "    ax.set_xticklabels(grid_result.cv_results_['params'][i:i+8], \n",
    "                       rotation=90)\n",
    "    ax.set_title('Cross-Validation Scores '+str(grid_result.cv_results_['params'][i])[0:30]+'}')\n",
    "    ax.yaxis.grid(True)\n",
    "\n",
    "    #plt.savefig(r'D:\\Maastricht\\Machine Learning\\Datasets\\Dataset1\\LogReg'+str(i)+'.png',\n",
    "               #dpi=300, bbox_inches='tight')\n",
    "    plt.show()"
   ]
  },
  {
   "cell_type": "code",
   "execution_count": null,
   "metadata": {},
   "outputs": [],
   "source": [
    "from sklearn.neighbors import KNeighborsClassifier\n",
    "\n",
    "# make a pipeline to select features and apply K Nearest Neighbors Classifier \n",
    "KNN_pipeline = make_pipeline(SelectKBest(score_func=f_classif), KNeighborsClassifier())\n",
    "\n",
    "# k = number of features to choose in SelectKBest\n",
    "k_values = [50]\n",
    "\n",
    "# number of neighbors to use for k neighbors queries\n",
    "#n_neighbors = range(100, 1000, 200)\n",
    "n_neighbors = [1000]\n",
    "\n",
    "# uniform: all points in each neighborhood are weighted equally.\n",
    "# distance: weight points by the inverse of their distance. Closer neighbors of a query point \n",
    "# will have a greater influence than neighbors which are further away.\n",
    "weights = ['uniform']\n",
    "\n",
    "# distance metric to measure nearset points\n",
    "metric = ['euclidean']\n",
    "\n",
    "# 5-fold cross-validation \n",
    "cv = StratifiedKFold(n_splits=5)\n",
    "\n",
    "grid = dict(kneighborsclassifier__n_neighbors=n_neighbors, \n",
    "            kneighborsclassifier__weights=weights, \n",
    "            kneighborsclassifier__metric=metric, \n",
    "            selectkbest__k=k_values)\n",
    "\n",
    "# GridSearchCV exhaustively generates candidates from a grid of parameter values\n",
    "grid_search = GridSearchCV(estimator=KNN_pipeline, param_grid=grid, n_jobs=-1, cv=cv, scoring='accuracy', \n",
    "error_score=0)\n",
    "grid_result = grid_search.fit(X_train, y_train)\n",
    "\n",
    "print(\"Best: %f using %s\" % (grid_result.best_score_, grid_result.best_params_))\n",
    "\n",
    "# define a K Nearest Neighbors model using the optimal parameter values obtained from the grid search\n",
    "KNN_pipeline = make_pipeline(SelectKBest(score_func=f_classif, k=grid_result.best_params_['selectkbest__k']), \n",
    "                        KNeighborsClassifier(metric=grid_result.best_params_['kneighborsclassifier__metric'], \n",
    "                                n_neighbors=grid_result.best_params_['kneighborsclassifier__n_neighbors'],\n",
    "                                             weights=grid_result.best_params_['kneighborsclassifier__weights']))"
   ]
  },
  {
   "cell_type": "code",
   "execution_count": null,
   "metadata": {},
   "outputs": [],
   "source": [
    "from sklearn.ensemble import RandomForestClassifier\n",
    "\n",
    "# make a pipeline to select features and apply Random Forest Classifier \n",
    "RF_pipeline = make_pipeline(SelectKBest(score_func=f_classif), RandomForestClassifier())\n",
    "\n",
    "# k = number of features to choose in SelectKBest\n",
    "k_values = [30, 40, 50, 60]\n",
    "\n",
    "# number of neighbors to use for k neighbors queries\n",
    "n_estimators = [1500]\n",
    "\n",
    "min_samples_split = [20, 50, 100]\n",
    "\n",
    "# 5-fold cross-validation \n",
    "cv = StratifiedKFold(n_splits=5)\n",
    "\n",
    "grid = dict(randomforestclassifier__n_estimators=n_estimators, \n",
    "            randomforestclassifier__min_samples_split=min_samples_split,  \n",
    "            selectkbest__k=k_values)\n",
    "\n",
    "# GridSearchCV exhaustively generates candidates from a grid of parameter values\n",
    "grid_search = GridSearchCV(estimator=RF_pipeline, param_grid=grid, n_jobs=-1, cv=cv, scoring='accuracy', \n",
    "error_score=0)\n",
    "grid_result = grid_search.fit(X_train, y_train)\n",
    "\n",
    "print(\"Best: %f using %s\" % (grid_result.best_score_, grid_result.best_params_))\n",
    "\n",
    "# define a Random Forest model using the optimal parameter values obtained from the grid search\n",
    "KNN_pipeline = make_pipeline(SelectKBest(score_func=f_classif, \n",
    "                                k=grid_result.best_params_['selectkbest__k']), \n",
    "                        RandomForestClassifier(\n",
    "                        n_estimators=grid_result.best_params_['randomforestclassifier__n_estimators'],\n",
    "                min_samples_split=grid_result.best_params_['randomforestclassifier__min_samples_split']))"
   ]
  },
  {
   "cell_type": "code",
   "execution_count": null,
   "metadata": {},
   "outputs": [],
   "source": [
    "from sklearn.model_selection import train_test_split\n",
    "\n",
    "X_train, X_test, y_train, y_test = train_test_split(X_train, y_train, stratify=y_train)"
   ]
  },
  {
   "cell_type": "code",
   "execution_count": null,
   "metadata": {},
   "outputs": [],
   "source": [
    "from sklearn.ensemble import RandomForestClassifier\n",
    "\n",
    "rf = RandomForestClassifier(n_estimators=1000, max_depth=None, min_samples_split=50, \n",
    "max_features='auto', bootstrap=True, n_jobs=-1, random_state=20)\n",
    "\n",
    "rf.fit(X_train, y_train)\n",
    "\n",
    "sorted_idx = rf.feature_importances_.argsort()"
   ]
  },
  {
   "cell_type": "code",
   "execution_count": null,
   "metadata": {},
   "outputs": [],
   "source": [
    "import matplotlib.pyplot as plt\n",
    "\n",
    "plt.figure(figsize=(12, 18))\n",
    "plt.barh(X_train.columns[sorted_idx], rf.feature_importances_[sorted_idx])\n",
    "plt.xlabel(\"Random Forest Feature Importance\")"
   ]
  },
  {
   "cell_type": "code",
   "execution_count": null,
   "metadata": {},
   "outputs": [],
   "source": [
    "from sklearn.metrics import accuracy_score\n",
    "\n",
    "pred = rf.predict(X_test)\n",
    "print(f\"accuracy score voting is {accuracy_score(y_test, pred)}\")"
   ]
  },
  {
   "cell_type": "code",
   "execution_count": null,
   "metadata": {},
   "outputs": [],
   "source": [
    "prob = rf.predict_proba(unlabeled)[:,1]\n",
    "\n",
    "submission = pd.DataFrame({'encounter_id': unlabeled['encounter_id'].astype(int), 'hospital_death': prob})\n",
    "\n",
    "print(len(prob))\n",
    "print(len(unlabeled['encounter_id']))"
   ]
  },
  {
   "cell_type": "code",
   "execution_count": null,
   "metadata": {},
   "outputs": [],
   "source": [
    "submission.to_csv(\"submission.csv\", index=False)"
   ]
  }
 ],
 "metadata": {
  "interpreter": {
   "hash": "6d47ee5640fc503c71f4bb20d34a99a4db90cdbb2bf7627af55566e1cfb8cabe"
  },
  "kernelspec": {
   "display_name": "Python 3.9.7 64-bit",
   "name": "python3"
  },
  "language_info": {
   "codemirror_mode": {
    "name": "ipython",
    "version": 3
   },
   "file_extension": ".py",
   "mimetype": "text/x-python",
   "name": "python",
   "nbconvert_exporter": "python",
   "pygments_lexer": "ipython3",
   "version": "3.9.7"
  },
  "orig_nbformat": 4
 },
 "nbformat": 4,
 "nbformat_minor": 2
}
